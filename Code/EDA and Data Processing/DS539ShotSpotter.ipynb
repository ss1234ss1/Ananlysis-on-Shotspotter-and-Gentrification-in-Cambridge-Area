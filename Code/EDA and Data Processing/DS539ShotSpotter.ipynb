{
  "nbformat": 4,
  "nbformat_minor": 0,
  "metadata": {
    "colab": {
      "provenance": []
    },
    "kernelspec": {
      "name": "python3",
      "display_name": "Python 3"
    },
    "language_info": {
      "name": "python"
    }
  },
  "cells": [
    {
      "cell_type": "code",
      "source": [
        "!pip install azure-ai-formrecognizer\n"
      ],
      "metadata": {
        "colab": {
          "base_uri": "https://localhost:8080/"
        },
        "id": "MgvI9CrRH97c",
        "outputId": "c7219faf-a8f0-4f28-8b6f-a82a98325f92"
      },
      "execution_count": null,
      "outputs": [
        {
          "output_type": "stream",
          "name": "stdout",
          "text": [
            "Collecting azure-ai-formrecognizer\n",
            "  Downloading azure_ai_formrecognizer-3.3.3-py3-none-any.whl.metadata (64 kB)\n",
            "\u001b[?25l     \u001b[90m━━━━━━━━━━━━━━━━━━━━━━━━━━━━━━━━━━━━━━━━\u001b[0m \u001b[32m0.0/64.6 kB\u001b[0m \u001b[31m?\u001b[0m eta \u001b[36m-:--:--\u001b[0m\r\u001b[2K     \u001b[90m━━━━━━━━━━━━━━━━━━━━━━━━━━━━━━━━━━━━━━━━\u001b[0m \u001b[32m64.6/64.6 kB\u001b[0m \u001b[31m1.7 MB/s\u001b[0m eta \u001b[36m0:00:00\u001b[0m\n",
            "\u001b[?25hCollecting azure-core>=1.23.0 (from azure-ai-formrecognizer)\n",
            "  Downloading azure_core-1.31.0-py3-none-any.whl.metadata (39 kB)\n",
            "Collecting msrest>=0.6.21 (from azure-ai-formrecognizer)\n",
            "  Downloading msrest-0.7.1-py3-none-any.whl.metadata (21 kB)\n",
            "Collecting azure-common>=1.1 (from azure-ai-formrecognizer)\n",
            "  Downloading azure_common-1.1.28-py2.py3-none-any.whl.metadata (5.0 kB)\n",
            "Requirement already satisfied: typing-extensions>=4.0.1 in /usr/local/lib/python3.10/dist-packages (from azure-ai-formrecognizer) (4.12.2)\n",
            "Requirement already satisfied: requests>=2.21.0 in /usr/local/lib/python3.10/dist-packages (from azure-core>=1.23.0->azure-ai-formrecognizer) (2.32.3)\n",
            "Requirement already satisfied: six>=1.11.0 in /usr/local/lib/python3.10/dist-packages (from azure-core>=1.23.0->azure-ai-formrecognizer) (1.16.0)\n",
            "Requirement already satisfied: certifi>=2017.4.17 in /usr/local/lib/python3.10/dist-packages (from msrest>=0.6.21->azure-ai-formrecognizer) (2024.8.30)\n",
            "Collecting isodate>=0.6.0 (from msrest>=0.6.21->azure-ai-formrecognizer)\n",
            "  Downloading isodate-0.7.2-py3-none-any.whl.metadata (11 kB)\n",
            "Requirement already satisfied: requests-oauthlib>=0.5.0 in /usr/local/lib/python3.10/dist-packages (from msrest>=0.6.21->azure-ai-formrecognizer) (1.3.1)\n",
            "Requirement already satisfied: charset-normalizer<4,>=2 in /usr/local/lib/python3.10/dist-packages (from requests>=2.21.0->azure-core>=1.23.0->azure-ai-formrecognizer) (3.4.0)\n",
            "Requirement already satisfied: idna<4,>=2.5 in /usr/local/lib/python3.10/dist-packages (from requests>=2.21.0->azure-core>=1.23.0->azure-ai-formrecognizer) (3.10)\n",
            "Requirement already satisfied: urllib3<3,>=1.21.1 in /usr/local/lib/python3.10/dist-packages (from requests>=2.21.0->azure-core>=1.23.0->azure-ai-formrecognizer) (2.2.3)\n",
            "Requirement already satisfied: oauthlib>=3.0.0 in /usr/local/lib/python3.10/dist-packages (from requests-oauthlib>=0.5.0->msrest>=0.6.21->azure-ai-formrecognizer) (3.2.2)\n",
            "Downloading azure_ai_formrecognizer-3.3.3-py3-none-any.whl (301 kB)\n",
            "\u001b[2K   \u001b[90m━━━━━━━━━━━━━━━━━━━━━━━━━━━━━━━━━━━━━━━━\u001b[0m \u001b[32m301.4/301.4 kB\u001b[0m \u001b[31m8.9 MB/s\u001b[0m eta \u001b[36m0:00:00\u001b[0m\n",
            "\u001b[?25hDownloading azure_common-1.1.28-py2.py3-none-any.whl (14 kB)\n",
            "Downloading azure_core-1.31.0-py3-none-any.whl (197 kB)\n",
            "\u001b[2K   \u001b[90m━━━━━━━━━━━━━━━━━━━━━━━━━━━━━━━━━━━━━━━━\u001b[0m \u001b[32m197.4/197.4 kB\u001b[0m \u001b[31m14.4 MB/s\u001b[0m eta \u001b[36m0:00:00\u001b[0m\n",
            "\u001b[?25hDownloading msrest-0.7.1-py3-none-any.whl (85 kB)\n",
            "\u001b[2K   \u001b[90m━━━━━━━━━━━━━━━━━━━━━━━━━━━━━━━━━━━━━━━━\u001b[0m \u001b[32m85.4/85.4 kB\u001b[0m \u001b[31m7.2 MB/s\u001b[0m eta \u001b[36m0:00:00\u001b[0m\n",
            "\u001b[?25hDownloading isodate-0.7.2-py3-none-any.whl (22 kB)\n",
            "Installing collected packages: azure-common, isodate, azure-core, msrest, azure-ai-formrecognizer\n",
            "Successfully installed azure-ai-formrecognizer-3.3.3 azure-common-1.1.28 azure-core-1.31.0 isodate-0.7.2 msrest-0.7.1\n"
          ]
        }
      ]
    },
    {
      "cell_type": "code",
      "execution_count": null,
      "metadata": {
        "colab": {
          "base_uri": "https://localhost:8080/"
        },
        "id": "cszZbPLbD7qu",
        "outputId": "60a8f585-4ca9-4290-fa71-5ebc3ba08757"
      },
      "outputs": [
        {
          "output_type": "stream",
          "name": "stdout",
          "text": [
            "----Key-value pairs found in document----\n",
            "Key 'QUARTERLY REPORT PURSUANT TO SECTION 13 OR 15(d) OF THE SECURITIES EXCHANGE ACT OF 1934': Value: ':selected:'\n",
            "Key 'For the Quarterly Period Ended': Value: 'March 31, 2020'\n",
            "Key 'TRANSITION REPORT PURSUANT TO SECTION 13 OR 15(d) OF THE SECURITIES EXCHANGE ACT OF 1934': Value: ':unselected:'\n",
            "Key 'Transition Period From': Value:\n",
            "Key 'Commission File Number': Value: '001-37845'\n",
            "Key '(STATE': Value: 'WASHINGTON'\n",
            "Key '(I.R.S. ID)': Value: '91-1144442'\n",
            "Key 'Securities registered pursuant to Section 12(g) of the Act:': Value: 'NONE'\n",
            "Key 'Yes': Value: ':selected:'\n",
            "Key 'No': Value: ':unselected:'\n",
            "Key 'Yes': Value: ':selected:'\n",
            "Key 'No': Value: ':unselected:'\n",
            "Key 'Large accelerated filer': Value: ':selected:'\n",
            "Key 'Accelerated filer': Value: ':unselected:'\n",
            "Key 'Non-accelerated filer': Value: ':unselected:'\n",
            "Key 'Emerging growth company': Value: ':unselected:'\n",
            "Key 'If an emerging growth company, indicate by check mark if the registrant has elected not to use the extended transition period for complying with any new or revised financial accounting standards provided pursuant to Section 13(a) of the Exchange Act.': Value: ':unselected:'\n",
            "Key 'Yes': Value: ':unselected:'\n",
            "Key 'No': Value: ':selected:'\n",
            "----------------------------------------\n"
          ]
        }
      ],
      "source": [
        "\"\"\"\n",
        "This code sample shows Prebuilt Document operations with the Azure Form Recognizer client library.\n",
        "The async versions of the samples require Python 3.6 or later.\n",
        "\n",
        "To learn more, please visit the documentation - Quickstart: Form Recognizer Python client library SDKs\n",
        "https://learn.microsoft.com/azure/applied-ai-services/form-recognizer/quickstarts/get-started-v3-sdk-rest-api?view=doc-intel-3.1.0&pivots=programming-language-python\n",
        "\"\"\"\n",
        "\n",
        "\n",
        "from azure.core.credentials import AzureKeyCredential\n",
        "from azure.ai.formrecognizer import DocumentAnalysisClient\n",
        "\n",
        "\"\"\"\n",
        "Remember to remove the key from your code when you're done, and never post it publicly. For production, use\n",
        "secure methods to store and access your credentials. For more information, see\n",
        "https://docs.microsoft.com/en-us/azure/cognitive-services/cognitive-services-security?tabs=command-line%2Ccsharp#environment-variables-and-application-configuration\n",
        "\"\"\"\n",
        "endpoint = \"https://shotspotter-doc-ocr.cognitiveservices.azure.com/\"\n",
        "key = \"98be1af99c534bdeb56a26bb37b0c10c\"\n",
        "\n",
        "# sample document\n",
        "formUrl = \"https://raw.githubusercontent.com/Azure-Samples/cognitive-services-REST-api-samples/master/curl/form-recognizer/sample-layout.pdf\"\n",
        "\n",
        "document_analysis_client = DocumentAnalysisClient(\n",
        "        endpoint=endpoint, credential=AzureKeyCredential(key)\n",
        "    )\n",
        "\n",
        "poller = document_analysis_client.begin_analyze_document_from_url(\"prebuilt-document\", formUrl)\n",
        "result = poller.result()\n",
        "\n",
        "print(\"----Key-value pairs found in document----\")\n",
        "for kv_pair in result.key_value_pairs:\n",
        "    if kv_pair.key and kv_pair.value:\n",
        "        print(\"Key '{}': Value: '{}'\".format(kv_pair.key.content, kv_pair.value.content))\n",
        "    else:\n",
        "        print(\"Key '{}': Value:\".format(kv_pair.key.content))\n",
        "\n",
        "print(\"----------------------------------------\")\n"
      ]
    },
    {
      "cell_type": "code",
      "source": [
        "\"\"\"\n",
        "This code sample shows Prebuilt Document operations with the Azure Form Recognizer client library.\n",
        "The async versions of the samples require Python 3.6 or later.\n",
        "\n",
        "To learn more, please visit the documentation - Quickstart: Form Recognizer Python client library SDKs\n",
        "https://learn.microsoft.com/azure/applied-ai-services/form-recognizer/quickstarts/get-started-v3-sdk-rest-api?view=doc-intel-3.1.0&pivots=programming-language-python\n",
        "\"\"\"\n",
        "\n",
        "from azure.core.credentials import AzureKeyCredential\n",
        "from azure.ai.formrecognizer import DocumentAnalysisClient\n",
        "\n",
        "\"\"\"\n",
        "Remember to remove the key from your code when you're done, and never post it publicly. For production, use\n",
        "secure methods to store and access your credentials. For more information, see\n",
        "https://docs.microsoft.com/en-us/azure/cognitive-services/cognitive-services-security?tabs=command-line%2Ccsharp#environment-variables-and-application-configuration\n",
        "\"\"\"\n",
        "endpoint = \"https://shotspotter-doc-ocr.cognitiveservices.azure.com/\"\n",
        "key = \"98be1af99c534bdeb56a26bb37b0c10c\"\n",
        "\n",
        "# sample document\n",
        "formUrl = \"https://raw.githubusercontent.com/Azure-Samples/cognitive-services-REST-api-samples/master/curl/form-recognizer/sample-layout.pdf\"\n",
        "\n",
        "document_analysis_client = DocumentAnalysisClient(\n",
        "        endpoint=endpoint, credential=AzureKeyCredential(key)\n",
        "    )\n",
        "\n",
        "poller = document_analysis_client.begin_analyze_document_from_url(\"prebuilt-document\", formUrl)\n",
        "result = poller.result()\n",
        "\n",
        "print(\"----Key-value pairs found in document----\")\n",
        "for kv_pair in result.key_value_pairs:\n",
        "    if kv_pair.key and kv_pair.value:\n",
        "        print(\"Key '{}': Value: '{}'\".format(kv_pair.key.content, kv_pair.value.content))\n",
        "    else:\n",
        "        print(\"Key '{}': Value:\".format(kv_pair.key.content))\n",
        "\n",
        "print(\"----------------------------------------\")\n"
      ],
      "metadata": {
        "colab": {
          "base_uri": "https://localhost:8080/"
        },
        "id": "y83w9eRvJyNZ",
        "outputId": "b25f348b-cb24-455b-d4b8-642ec912671d"
      },
      "execution_count": null,
      "outputs": [
        {
          "output_type": "stream",
          "name": "stdout",
          "text": [
            "----Key-value pairs found in document----\n",
            "Key 'QUARTERLY REPORT PURSUANT TO SECTION 13 OR 15(d) OF THE SECURITIES EXCHANGE ACT OF 1934': Value: ':selected:'\n",
            "Key 'For the Quarterly Period Ended': Value: 'March 31, 2020'\n",
            "Key 'TRANSITION REPORT PURSUANT TO SECTION 13 OR 15(d) OF THE SECURITIES EXCHANGE ACT OF 1934': Value: ':unselected:'\n",
            "Key 'Transition Period From': Value:\n",
            "Key 'Commission File Number': Value: '001-37845'\n",
            "Key '(STATE': Value: 'WASHINGTON'\n",
            "Key '(I.R.S. ID)': Value: '91-1144442'\n",
            "Key 'Securities registered pursuant to Section 12(g) of the Act:': Value: 'NONE'\n",
            "Key 'Yes': Value: ':selected:'\n",
            "Key 'No': Value: ':unselected:'\n",
            "Key 'Yes': Value: ':selected:'\n",
            "Key 'No': Value: ':unselected:'\n",
            "Key 'Large accelerated filer': Value: ':selected:'\n",
            "Key 'Accelerated filer': Value: ':unselected:'\n",
            "Key 'Non-accelerated filer': Value: ':unselected:'\n",
            "Key 'Emerging growth company': Value: ':unselected:'\n",
            "Key 'If an emerging growth company, indicate by check mark if the registrant has elected not to use the extended transition period for complying with any new or revised financial accounting standards provided pursuant to Section 13(a) of the Exchange Act.': Value: ':unselected:'\n",
            "Key 'Yes': Value: ':unselected:'\n",
            "Key 'No': Value: ':selected:'\n",
            "----------------------------------------\n"
          ]
        }
      ]
    }
  ]
}